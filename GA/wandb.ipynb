{
 "cells": [
  {
   "cell_type": "code",
   "execution_count": 1,
   "id": "63f41779-6288-4984-add5-a27730077ba6",
   "metadata": {},
   "outputs": [],
   "source": [
    "import wandb"
   ]
  },
  {
   "cell_type": "code",
   "execution_count": 2,
   "id": "44114aac-69ac-462d-96fb-e47c8efd8ff2",
   "metadata": {},
   "outputs": [],
   "source": [
    "api = wandb.Api()"
   ]
  },
  {
   "cell_type": "code",
   "execution_count": 10,
   "id": "7bd5cc76-ba23-4f82-93a4-0d18f0667731",
   "metadata": {},
   "outputs": [
    {
     "data": {
      "text/plain": [
       "{'_type': 'table-file',\n",
       " 'artifact_path': 'wandb-client-artifact://98d2121wkm1te71v43a4twvmiuqdeif0i9szqv7m9g208hees4eae3lurpsd07ues8b701jipsfppinhc2fi3spist9kjaed2mf0hccyyrrns5qo3siw4mjrhcj5mkei/fitness_table.table.json',\n",
       " 'ncols': 2,\n",
       " 'nrows': 10,\n",
       " 'path': 'media/table/fitness_table_7_32c9e65d0f7863d77436.table.json',\n",
       " 'sha256': '32c9e65d0f7863d774361e6472a233c00d0bbfec06c51b664f9ac8c3bcd13e0f',\n",
       " 'size': 173,\n",
       " '_latest_artifact_path': 'wandb-client-artifact://kni1fl45m11bf9gtudhib5lenlqc2yms5n6lpnzy2ayg2bxhfxb0w51hqxc5lcns63wamkhoxebth1h7vslxgck94jnlbm7w1xzvk7butt0b8fik97l1pwfo1unwng3y:latest/fitness_table.table.json'}"
      ]
     },
     "execution_count": 10,
     "metadata": {},
     "output_type": "execute_result"
    }
   ],
   "source": [
    "run = api.run(\"simonrosen42/Test/1izim2op\")\n",
    "run.history()[\"fitness_table\"][7]"
   ]
  },
  {
   "cell_type": "code",
   "execution_count": null,
   "id": "864614e9-e890-4bdf-b74f-f908b6425771",
   "metadata": {},
   "outputs": [],
   "source": []
  }
 ],
 "metadata": {
  "kernelspec": {
   "display_name": "Python 3 (ipykernel)",
   "language": "python",
   "name": "python3"
  },
  "language_info": {
   "codemirror_mode": {
    "name": "ipython",
    "version": 3
   },
   "file_extension": ".py",
   "mimetype": "text/x-python",
   "name": "python",
   "nbconvert_exporter": "python",
   "pygments_lexer": "ipython3",
   "version": "3.9.6"
  }
 },
 "nbformat": 4,
 "nbformat_minor": 5
}
