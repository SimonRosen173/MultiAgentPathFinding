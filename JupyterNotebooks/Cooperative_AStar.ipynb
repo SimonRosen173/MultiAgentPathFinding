{
 "cells": [
  {
   "cell_type": "markdown",
   "id": "5c392cf4-2e9b-44e8-bb35-0c815801dab6",
   "metadata": {},
   "source": [
    "# Cooperative A*\n",
    "**Cooperative Pathfinding - <raw>[Silver 2005]</raw>**"
   ]
  },
  {
   "cell_type": "markdown",
   "id": "d9bf88c9-130e-44ea-8387-562c2d8eca82",
   "metadata": {},
   "source": [
    "#### Boring Imports"
   ]
  },
  {
   "cell_type": "code",
   "execution_count": 11,
   "id": "637062dc-bcc1-4a00-86ad-75b328c9ad16",
   "metadata": {},
   "outputs": [],
   "source": [
    "from queue import PriorityQueue\n",
    "import numpy as np"
   ]
  },
  {
   "cell_type": "code",
   "execution_count": null,
   "id": "bca82e61-2ef0-405b-9d97-6760f4107d09",
   "metadata": {},
   "outputs": [],
   "source": []
  },
  {
   "cell_type": "markdown",
   "id": "93ce8fcc-44d9-4319-9b41-5530159ad6da",
   "metadata": {},
   "source": [
    "## Graph Object"
   ]
  },
  {
   "cell_type": "code",
   "execution_count": 1,
   "id": "2fd8372b-b631-4be5-baa1-8bd49c2a343d",
   "metadata": {},
   "outputs": [],
   "source": [
    "# Node for space-time graph\n",
    "class Node:\n",
    "    def __init__(self, parent, x, y, t):\n",
    "        self.x = x\n",
    "        self.y = y\n",
    "        self.t = t\n",
    "        self.parent = parent\n",
    "        self.edges = []  # list of tuples of edge length and node\n",
    "\n",
    "    def add_node(self, edge_len, node_ind):\n",
    "        self.edges.append((edge_len, node_ind))\n",
    "\n",
    "    def __eq__(self, other):\n",
    "        if self.x == other.x and self.y == other.y and self.t == other.t:\n",
    "            return True\n",
    "        else:\n",
    "            return False\n",
    "\n",
    "    def __repr__(self):\n",
    "        return self.__str__()\n",
    "\n",
    "    def __str__(self):\n",
    "        return f\"NODE ({self.x},{self.y},{self.t}) : parent = {self.parent}, edges = {str(self.edges)}\"\n",
    "\n",
    "# Normal AStar - I.e. ignores time dimension\n",
    "class AStarNode(Node):\n",
    "    def __init__(self, parent, x, y):\n",
    "        super(AStarNode, self).__init__(parent, x, y, 0)\n",
    "        self.h = np.inf\n",
    "        self.g = np.inf\n",
    "        self.f = np.inf\n",
    "\n",
    "    def __lt__(self, other):\n",
    "        return self.f < other.f"
   ]
  },
  {
   "cell_type": "markdown",
   "id": "dbf59bb3-de87-4404-be7e-a52fd22a0e91",
   "metadata": {},
   "source": [
    "## Traditional A*\n"
   ]
  },
  {
   "cell_type": "code",
   "execution_count": 6,
   "id": "be05ba67-a02f-4ed5-b514-47343f77ddd6",
   "metadata": {},
   "outputs": [],
   "source": [
    "class Node:\n",
    "    def __init__(self, x, y):\n",
    "        self.x = x\n",
    "        self.y = y\n",
    "        \n",
    "    def __eq__(self, other):\n",
    "        return self.x == other.x and self.y == other.y\n",
    "    \n",
    "    def __repr__(self):\n",
    "        return f\"Node({self.x},{self.y})\""
   ]
  },
  {
   "cell_type": "code",
   "execution_count": 9,
   "id": "c764a068-5fe2-4498-a612-86f371aafad8",
   "metadata": {},
   "outputs": [
    {
     "data": {
      "text/plain": [
       "[Node(1,1), Node(2,2), Node(1,2)]"
      ]
     },
     "execution_count": 9,
     "metadata": {},
     "output_type": "execute_result"
    }
   ],
   "source": [
    "tmp = [Node(1,1), Node(2,2), Node(1,2)]\n",
    "tmp"
   ]
  },
  {
   "cell_type": "code",
   "execution_count": 10,
   "id": "c1cec0f0-557e-4e89-b674-746c096aa3db",
   "metadata": {},
   "outputs": [
    {
     "data": {
      "text/plain": [
       "True"
      ]
     },
     "execution_count": 10,
     "metadata": {},
     "output_type": "execute_result"
    }
   ],
   "source": [
    "Node(1,1) in tmp"
   ]
  },
  {
   "cell_type": "code",
   "execution_count": 12,
   "id": "1ac8fb63-e50e-414b-b6ce-119d9caeb383",
   "metadata": {},
   "outputs": [
    {
     "data": {
      "text/plain": [
       "Node(1,1)"
      ]
     },
     "execution_count": 12,
     "metadata": {},
     "output_type": "execute_result"
    }
   ],
   "source": [
    "list(filter(lambda x: x == Node(1,1), tmp))[0]"
   ]
  },
  {
   "cell_type": "code",
   "execution_count": 21,
   "id": "facb03a6-b6c5-49ad-ae95-679ab4bb80c8",
   "metadata": {},
   "outputs": [
    {
     "name": "stdout",
     "output_type": "stream",
     "text": [
      "0 Hello\n",
      "1 Hello\n",
      "2 Hello\n",
      "3 Hello\n",
      "4 5 6 7 8 9 "
     ]
    }
   ],
   "source": [
    "for i in range(10):\n",
    "    print(i, end=\" \")\n",
    "    if i > 3:\n",
    "        continue\n",
    "    print(\"Hello\")"
   ]
  },
  {
   "cell_type": "code",
   "execution_count": 15,
   "id": "875cce62-7511-4b98-bb51-67b9f38c72af",
   "metadata": {},
   "outputs": [],
   "source": [
    "if 0:\n",
    "    print(\"Hello\")"
   ]
  },
  {
   "cell_type": "code",
   "execution_count": null,
   "id": "7ddda4eb-4983-4350-ab41-39a6e4ad55cb",
   "metadata": {},
   "outputs": [],
   "source": []
  }
 ],
 "metadata": {
  "kernelspec": {
   "display_name": "Python 3 (ipykernel)",
   "language": "python",
   "name": "python3"
  },
  "language_info": {
   "codemirror_mode": {
    "name": "ipython",
    "version": 3
   },
   "file_extension": ".py",
   "mimetype": "text/x-python",
   "name": "python",
   "nbconvert_exporter": "python",
   "pygments_lexer": "ipython3",
   "version": "3.9.1"
  }
 },
 "nbformat": 4,
 "nbformat_minor": 5
}
